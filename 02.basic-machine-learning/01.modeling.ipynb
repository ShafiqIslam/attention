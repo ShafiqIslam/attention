{
 "cells": [
  {
   "cell_type": "markdown",
   "id": "49bbd459",
   "metadata": {},
   "source": [
    "#### Loading Dataset"
   ]
  },
  {
   "cell_type": "markdown",
   "id": "d43b7689",
   "metadata": {},
   "source": [
    "Dataset has two components:\n",
    "- Features\n",
    "    - Feature Matrix\n",
    "    - Feature Names\n",
    "- Response\n",
    "    - Response Vector\n",
    "    - Target Names "
   ]
  },
  {
   "cell_type": "code",
   "execution_count": 4,
   "id": "533e0187",
   "metadata": {},
   "outputs": [
    {
     "name": "stdout",
     "output_type": "stream",
     "text": [
      "Feature names: ['sepal length (cm)', 'sepal width (cm)', 'petal length (cm)', 'petal width (cm)']\n",
      "Target names: ['setosa' 'versicolor' 'virginica']\n",
      "\n",
      "First 10 rows of X:\n",
      " [[5.1 3.5 1.4 0.2]\n",
      " [4.9 3.  1.4 0.2]\n",
      " [4.7 3.2 1.3 0.2]\n",
      " [4.6 3.1 1.5 0.2]\n",
      " [5.  3.6 1.4 0.2]\n",
      " [5.4 3.9 1.7 0.4]\n",
      " [4.6 3.4 1.4 0.3]\n",
      " [5.  3.4 1.5 0.2]\n",
      " [4.4 2.9 1.4 0.2]\n",
      " [4.9 3.1 1.5 0.1]]\n"
     ]
    }
   ],
   "source": [
    "from sklearn.datasets import load_iris\n",
    "\n",
    "iris = load_iris()\n",
    "\n",
    "X = iris.data # X is the feature matrix\n",
    "y = iris.target # y is the response vector\n",
    "\n",
    "feature_names = iris.feature_names\n",
    "target_names = iris.target_names\n",
    "\n",
    "print(\"Feature names:\", feature_names)\n",
    "print(\"Target names:\", target_names)\n",
    "print(\"\\nFirst 10 rows of X:\\n\", X[:10])"
   ]
  },
  {
   "cell_type": "markdown",
   "id": "4a348f91",
   "metadata": {},
   "source": [
    "**Spliting dataset into training set and testing set**"
   ]
  },
  {
   "cell_type": "code",
   "execution_count": null,
   "id": "1ebaeb94",
   "metadata": {},
   "outputs": [
    {
     "name": "stdout",
     "output_type": "stream",
     "text": [
      "(105, 4)\n",
      "(45, 4)\n",
      "(105,)\n",
      "(45,)\n"
     ]
    }
   ],
   "source": [
    "from sklearn.datasets import load_iris\n",
    "from sklearn.model_selection import train_test_split\n",
    "\n",
    "iris = load_iris()\n",
    "\n",
    "X = iris.data\n",
    "y = iris.target\n",
    "\n",
    "# for 150 rows of X, produce test data of 150*0.3 = 45 rows.\n",
    "X_train, X_test, y_train, y_test = train_test_split(\n",
    "   X, y, test_size = 0.3, random_state = 1\n",
    ")\n",
    "\n",
    "print(X_train.shape)\n",
    "print(X_test.shape)\n",
    "\n",
    "print(y_train.shape)\n",
    "print(y_test.shape)"
   ]
  },
  {
   "cell_type": "markdown",
   "id": "628e3c81",
   "metadata": {},
   "source": [
    "##### Do some training"
   ]
  },
  {
   "cell_type": "code",
   "execution_count": null,
   "id": "7004899e",
   "metadata": {},
   "outputs": [
    {
     "name": "stdout",
     "output_type": "stream",
     "text": [
      "Accuracy: 0.9833333333333333\n",
      "Predictions: [1 2]\n",
      "Prediction Species: [np.str_('versicolor'), np.str_('virginica')]\n"
     ]
    }
   ],
   "source": [
    "from sklearn.datasets import load_iris\n",
    "from sklearn.model_selection import train_test_split\n",
    "from sklearn.neighbors import KNeighborsClassifier\n",
    "from sklearn import metrics\n",
    "\n",
    "iris = load_iris()\n",
    "X = iris.data\n",
    "y = iris.target\n",
    "\n",
    "X_train, X_test, y_train, y_test = train_test_split(\n",
    "   X, y, test_size = 0.4, random_state=1\n",
    ")\n",
    "\n",
    "# Train with KNN classifier algorithm\n",
    "classifier_knn = KNeighborsClassifier(n_neighbors = 3)\n",
    "classifier_knn.fit(X_train, y_train)\n",
    "\n",
    "# Comparing test response value with predicted response value\n",
    "y_pred = classifier_knn.predict(X_test)\n",
    "print(\"Accuracy:\", metrics.accuracy_score(y_test, y_pred))\n",
    "\n",
    "# Make predictions on sample data\n",
    "sample = [\n",
    "    [5, 5, 3, 2], \n",
    "    [2, 4, 3, 5]\n",
    "]\n",
    "preds = classifier_knn.predict(sample)\n",
    "pred_species = [iris.target_names[p] for p in preds] \n",
    "\n",
    "print(\"Predictions:\", preds)\n",
    "print(\"Prediction Species:\", pred_species)"
   ]
  },
  {
   "cell_type": "markdown",
   "id": "b9055392",
   "metadata": {},
   "source": [
    "##### Persist trained model"
   ]
  },
  {
   "cell_type": "code",
   "execution_count": 10,
   "id": "054b1ef2",
   "metadata": {},
   "outputs": [
    {
     "data": {
      "text/plain": [
       "['trained_models/iris_classifier_knn.joblib']"
      ]
     },
     "execution_count": 10,
     "metadata": {},
     "output_type": "execute_result"
    }
   ],
   "source": [
    "import joblib\n",
    "\n",
    "joblib.dump(classifier_knn, 'trained_models/iris_classifier_knn.joblib')"
   ]
  },
  {
   "cell_type": "markdown",
   "id": "4fc0a4c6",
   "metadata": {},
   "source": [
    "**Reload the model from filesystem**"
   ]
  },
  {
   "cell_type": "code",
   "execution_count": 14,
   "id": "024c7315",
   "metadata": {},
   "outputs": [
    {
     "name": "stdout",
     "output_type": "stream",
     "text": [
      "Prediction Species: [np.str_('versicolor'), np.str_('virginica')]\n"
     ]
    }
   ],
   "source": [
    "classifier_knn = joblib.load('trained_models/iris_classifier_knn.joblib')\n",
    "\n",
    "sample = [\n",
    "    [5, 5, 3, 2], \n",
    "    [2, 4, 3, 5]\n",
    "]\n",
    "preds = classifier_knn.predict(sample)\n",
    "pred_species = [iris.target_names[p] for p in preds] \n",
    "\n",
    "print(\"Prediction Species:\", pred_species)"
   ]
  },
  {
   "cell_type": "markdown",
   "id": "45853191",
   "metadata": {},
   "source": [
    "#### Preprocessing Data"
   ]
  },
  {
   "cell_type": "markdown",
   "id": "dd3d8f5c",
   "metadata": {},
   "source": [
    "##### Binarisation\n",
    "\n",
    "With `threshold=0.5`, All the values above 0.5 would be converted to 1, and all the values below 0.5 would be converted to 0."
   ]
  },
  {
   "cell_type": "code",
   "execution_count": 18,
   "id": "9fe1caf8",
   "metadata": {},
   "outputs": [
    {
     "name": "stdout",
     "output_type": "stream",
     "text": [
      "\n",
      "Binarized data:\n",
      " [[1. 0. 1.]\n",
      " [0. 1. 1.]\n",
      " [0. 0. 1.]\n",
      " [1. 1. 0.]]\n"
     ]
    }
   ],
   "source": [
    "import numpy as np\n",
    "from sklearn import preprocessing\n",
    "\n",
    "input_data = np.array([\n",
    "    [2.1, -1.9, 5.5],\n",
    "    [-1.5, 2.4, 3.5],\n",
    "    [0.5, -7.9, 5.6],\n",
    "    [5.9, 2.3, -5.8]\n",
    "])\n",
    "binarizer = preprocessing.Binarizer(threshold=0.5)\n",
    "data_binarized = binarizer.transform(input_data)\n",
    "print(\"\\nBinarized data:\\n\", data_binarized)"
   ]
  },
  {
   "cell_type": "markdown",
   "id": "29df95ed",
   "metadata": {},
   "source": [
    "##### Mean Removal\n",
    "\n",
    "Eliminate the mean from feature vector so that every feature centered on zero."
   ]
  },
  {
   "cell_type": "code",
   "execution_count": null,
   "id": "45be8ea5",
   "metadata": {},
   "outputs": [
    {
     "name": "stdout",
     "output_type": "stream",
     "text": [
      "Mean = [ 1.75  -1.275  2.2  ]\n",
      "Standard deviation =  [2.71431391 4.20022321 4.69414529]\n",
      "Mean_removed = [1.11022302e-16 0.00000000e+00 0.00000000e+00]\n",
      "Stddev_removed = [1. 1. 1.]\n"
     ]
    }
   ],
   "source": [
    "import numpy as np\n",
    "from sklearn import preprocessing\n",
    "\n",
    "input_data = np.array([\n",
    "   [2.1, -1.9, 5.5],\n",
    "   [-1.5, 2.4, 3.5],\n",
    "   [0.5, -7.9, 5.6],\n",
    "   [5.9, 2.3, -5.8]\n",
    "])\n",
    "\n",
    "print(\"Mean =\", input_data.mean(axis=0))\n",
    "print(\"Standard deviation = \", input_data.std(axis=0))\n",
    "\n",
    "# Removing the mean and the standard deviation of the input data\n",
    "data_scaled = preprocessing.scale(input_data)\n",
    "print(\"Mean_removed =\", data_scaled.mean(axis=0))\n",
    "print(\"Stddev_removed =\", data_scaled.std(axis=0))"
   ]
  },
  {
   "cell_type": "markdown",
   "id": "02cdd6f4",
   "metadata": {},
   "source": [
    "##### Scaling the Feature Vectors"
   ]
  },
  {
   "cell_type": "code",
   "execution_count": null,
   "id": "621222fe",
   "metadata": {},
   "outputs": [
    {
     "name": "stdout",
     "output_type": "stream",
     "text": [
      "\n",
      "Min max scaled data:\n",
      " [[0.48648649 0.58252427 0.99122807]\n",
      " [0.         1.         0.81578947]\n",
      " [0.27027027 0.         1.        ]\n",
      " [1.         0.99029126 0.        ]]\n"
     ]
    }
   ],
   "source": [
    "import numpy as np\n",
    "from sklearn import preprocessing\n",
    "\n",
    "input_data = np.array([\n",
    "    [2.1, -1.9, 5.5],\n",
    "    [-1.5, 2.4, 3.5],\n",
    "    [0.5, -7.9, 5.6],\n",
    "    [5.9, 2.3, -5.8]\n",
    "])\n",
    "minmax_scaler = preprocessing.MinMaxScaler(feature_range=(0,1))\n",
    "data_scaled_minmax = minmax_scaler.fit_transform(input_data)\n",
    "print (\"\\nMin max scaled data:\\n\", data_scaled_minmax)"
   ]
  },
  {
   "cell_type": "markdown",
   "id": "08920bff",
   "metadata": {},
   "source": [
    "##### L1 Normalisation\n",
    "\n",
    "Also called Least Absolute Deviations. It modifies the value in such a manner that the sum of the absolute values remains always up to 1 in each row."
   ]
  },
  {
   "cell_type": "code",
   "execution_count": null,
   "id": "6fe087e6",
   "metadata": {},
   "outputs": [
    {
     "name": "stdout",
     "output_type": "stream",
     "text": [
      "\n",
      "L1 normalized data:\n",
      " [[ 0.22105263 -0.2         0.57894737]\n",
      " [-0.2027027   0.32432432  0.47297297]\n",
      " [ 0.03571429 -0.56428571  0.4       ]\n",
      " [ 0.42142857  0.16428571 -0.41428571]]\n"
     ]
    }
   ],
   "source": [
    "from sklearn import preprocessing\n",
    "\n",
    "input_data = np.array([\n",
    "    [2.1, -1.9, 5.5],\n",
    "    [-1.5, 2.4, 3.5],\n",
    "    [0.5, -7.9, 5.6],\n",
    "    [5.9, 2.3, -5.8]\n",
    "])\n",
    "data_normalized_l1 = preprocessing.normalize(input_data, norm='l1')\n",
    "print(\"\\nL1 normalized data:\\n\", data_normalized_l1)"
   ]
  },
  {
   "cell_type": "markdown",
   "id": "ad2a35cd",
   "metadata": {},
   "source": [
    "##### L2 Normalisation\n",
    "\n",
    "Also called Least Squares. It modifies the value in such a manner that the sum of the squares remains always up to 1 in each row."
   ]
  },
  {
   "cell_type": "code",
   "execution_count": null,
   "id": "9892ee69",
   "metadata": {},
   "outputs": [
    {
     "name": "stdout",
     "output_type": "stream",
     "text": [
      "\n",
      "L1 normalized data:\n",
      " [[ 0.33946114 -0.30713151  0.88906489]\n",
      " [-0.33325106  0.53320169  0.7775858 ]\n",
      " [ 0.05156558 -0.81473612  0.57753446]\n",
      " [ 0.68706914  0.26784051 -0.6754239 ]]\n"
     ]
    }
   ],
   "source": [
    "import numpy as np\n",
    "from sklearn import preprocessing\n",
    "\n",
    "input_data = np.array([\n",
    "    [2.1, -1.9, 5.5],\n",
    "    [-1.5, 2.4, 3.5],\n",
    "    [0.5, -7.9, 5.6],\n",
    "    [5.9, 2.3, -5.8]\n",
    "])\n",
    "data_normalized_l2 = preprocessing.normalize(input_data, norm='l2')\n",
    "print(\"\\nL2 normalized data:\\n\", data_normalized_l2)"
   ]
  }
 ],
 "metadata": {
  "kernelspec": {
   "display_name": ".venv",
   "language": "python",
   "name": "python3"
  },
  "language_info": {
   "codemirror_mode": {
    "name": "ipython",
    "version": 3
   },
   "file_extension": ".py",
   "mimetype": "text/x-python",
   "name": "python",
   "nbconvert_exporter": "python",
   "pygments_lexer": "ipython3",
   "version": "3.12.3"
  }
 },
 "nbformat": 4,
 "nbformat_minor": 5
}
