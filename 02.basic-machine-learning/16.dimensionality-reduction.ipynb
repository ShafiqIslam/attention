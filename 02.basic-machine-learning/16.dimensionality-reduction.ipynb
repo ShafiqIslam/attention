{
 "cells": [
  {
   "cell_type": "markdown",
   "id": "d71f47f3",
   "metadata": {},
   "source": [
    "Dimensionality reduction, an unsupervised machine learning method is used to reduce the number of feature variables for each data sample selecting set of principal features. Principal Component Analysis (PCA) is one of the popular algorithms for dimensionality reduction."
   ]
  },
  {
   "cell_type": "markdown",
   "id": "6f476e36",
   "metadata": {},
   "source": [
    "##### Exact PCA"
   ]
  },
  {
   "cell_type": "markdown",
   "id": "c41620ab",
   "metadata": {},
   "source": [
    "**Principal Component Analysis** (PCA) is used for linear dimensionality reduction using **Singular Value Decomposition** (SVD) of the data to project it to a lower dimensional space. While decomposition using PCA, input data is centered but not scaled for each feature before applying the SVD."
   ]
  },
  {
   "cell_type": "code",
   "execution_count": 1,
   "id": "e1e6bf87",
   "metadata": {},
   "outputs": [
    {
     "name": "stdout",
     "output_type": "stream",
     "text": [
      "Explained Variance: [0.88854663 0.06159078 0.02579012 0.01308614 0.00744094]\n",
      "[[-2.02176587e-03  9.78115765e-02  1.60930503e-02  6.07566861e-02\n",
      "   9.93110844e-01  1.40108085e-02  5.37167919e-04 -3.56474430e-03]\n",
      " [ 2.26488861e-02  9.72210040e-01  1.41909330e-01 -5.78614699e-02\n",
      "  -9.46266913e-02  4.69729766e-02  8.16804621e-04  1.40168181e-01]\n",
      " [ 2.24649003e-02 -1.43428710e-01  9.22467192e-01  3.07013055e-01\n",
      "  -2.09773019e-02  1.32444542e-01  6.39983017e-04  1.25454310e-01]\n",
      " [-4.90459604e-02  1.19830016e-01 -2.62742788e-01  8.84369380e-01\n",
      "  -6.55503615e-02  1.92801728e-01  2.69908637e-03 -3.01024330e-01]\n",
      " [ 1.51612874e-01 -8.79407680e-02 -2.32165009e-01  2.59973487e-01\n",
      "  -1.72312241e-04  2.14744823e-02  1.64080684e-03  9.20504903e-01]]\n"
     ]
    }
   ],
   "source": [
    "from pandas import read_csv\n",
    "from sklearn.decomposition import PCA\n",
    "\n",
    "names = ['preg', 'plas', 'pres', 'skin', 'test', 'mass', 'pedi', 'age', 'class']\n",
    "dataframe = read_csv('data/diabetes.csv', names = names, skiprows=1)\n",
    "array = dataframe.values\n",
    "X = array[:,0:8]\n",
    "Y = array[:,8]\n",
    "\n",
    "pca = PCA(n_components = 5)\n",
    "fit = pca.fit(X)\n",
    "\n",
    "print((\"Explained Variance: %s\") % (fit.explained_variance_ratio_))\n",
    "print(fit.components_)"
   ]
  },
  {
   "cell_type": "markdown",
   "id": "06dcbcb8",
   "metadata": {},
   "source": [
    "**Incremental PCA**"
   ]
  },
  {
   "cell_type": "markdown",
   "id": "b551b59a",
   "metadata": {},
   "source": [
    "**Incremental Principal Component Analysis** (IPCA) is used to address the biggest limitation of Principal Component Analysis (PCA) and that is PCA only supports batch processing, means all the input data to be processed should fit in the memory."
   ]
  },
  {
   "cell_type": "code",
   "execution_count": 2,
   "id": "d3b62e26",
   "metadata": {},
   "outputs": [
    {
     "data": {
      "text/plain": [
       "(1797, 10)"
      ]
     },
     "execution_count": 2,
     "metadata": {},
     "output_type": "execute_result"
    }
   ],
   "source": [
    "from sklearn.datasets import load_digits\n",
    "from sklearn.decomposition import IncrementalPCA\n",
    "\n",
    "X, _ = load_digits(return_X_y = True)\n",
    "transformer = IncrementalPCA(n_components = 10, batch_size = 100)\n",
    "transformer.partial_fit(X[:100, :])\n",
    "X_transformed = transformer.fit_transform(X)\n",
    "\n",
    "X_transformed.shape"
   ]
  },
  {
   "cell_type": "markdown",
   "id": "cdd80082",
   "metadata": {},
   "source": [
    "**Kernel PCA**"
   ]
  },
  {
   "cell_type": "markdown",
   "id": "e4f540cb",
   "metadata": {},
   "source": [
    "Kernel Principal Component Analysis, an extension of PCA, achieves non-linear dimensionality reduction using kernels. It supports both `transform` and `inverse_transform`."
   ]
  },
  {
   "cell_type": "code",
   "execution_count": 3,
   "id": "b74ec1e7",
   "metadata": {},
   "outputs": [
    {
     "data": {
      "text/plain": [
       "(1797, 10)"
      ]
     },
     "execution_count": 3,
     "metadata": {},
     "output_type": "execute_result"
    }
   ],
   "source": [
    "from sklearn.datasets import load_digits\n",
    "from sklearn.decomposition import KernelPCA\n",
    "\n",
    "X, _ = load_digits(return_X_y = True)\n",
    "transformer = KernelPCA(n_components = 10, kernel = 'sigmoid')\n",
    "X_transformed = transformer.fit_transform(X)\n",
    "\n",
    "X_transformed.shape"
   ]
  },
  {
   "cell_type": "markdown",
   "id": "5a4ae3ae",
   "metadata": {},
   "source": [
    "**PCA using randomized SVD**"
   ]
  },
  {
   "cell_type": "markdown",
   "id": "1a706428",
   "metadata": {},
   "source": [
    "Principal Component Analysis (PCA) using randomized SVD is used to project data to a lower-dimensional space preserving most of the variance by dropping the singular vector of components associated with lower singular values."
   ]
  },
  {
   "cell_type": "code",
   "execution_count": 4,
   "id": "90d4a64c",
   "metadata": {},
   "outputs": [
    {
     "name": "stdout",
     "output_type": "stream",
     "text": [
      "Explained Variance: [8.88546635e-01 6.15907837e-02 2.57901189e-02 1.30861374e-02\n",
      " 7.44093864e-03 3.02614919e-03 5.12444875e-04]\n",
      "[[-2.02176587e-03  9.78115765e-02  1.60930503e-02  6.07566861e-02\n",
      "   9.93110844e-01  1.40108085e-02  5.37167919e-04 -3.56474430e-03]\n",
      " [ 2.26488861e-02  9.72210040e-01  1.41909330e-01 -5.78614699e-02\n",
      "  -9.46266913e-02  4.69729766e-02  8.16804621e-04  1.40168181e-01]\n",
      " [ 2.24649003e-02 -1.43428710e-01  9.22467192e-01  3.07013055e-01\n",
      "  -2.09773019e-02  1.32444542e-01  6.39983017e-04  1.25454310e-01]\n",
      " [-4.90459604e-02  1.19830016e-01 -2.62742788e-01  8.84369380e-01\n",
      "  -6.55503615e-02  1.92801728e-01  2.69908637e-03 -3.01024330e-01]\n",
      " [ 1.51612874e-01 -8.79407680e-02 -2.32165009e-01  2.59973487e-01\n",
      "  -1.72312241e-04  2.14744823e-02  1.64080684e-03  9.20504903e-01]\n",
      " [ 5.04730888e-03 -5.07391813e-02 -7.56365525e-02 -2.21363068e-01\n",
      "   6.13326472e-03  9.70776708e-01  2.02903702e-03  1.51133239e-02]\n",
      " [ 9.86672995e-01  8.83426114e-04 -1.22975947e-03 -3.76444746e-04\n",
      "   1.42307394e-03 -2.73046214e-03 -6.34402965e-03 -1.62555343e-01]]\n"
     ]
    }
   ],
   "source": [
    "from pandas import read_csv\n",
    "from sklearn.decomposition import PCA\n",
    "\n",
    "names = ['preg', 'plas', 'pres', 'skin', 'test', 'mass', 'pedi', 'age', 'class']\n",
    "dataframe = read_csv('data/diabetes.csv', names = names, skiprows=1)\n",
    "array = dataframe.values\n",
    "X = array[:,0:8]\n",
    "Y = array[:,8]\n",
    "\n",
    "pca = PCA(n_components = 7,svd_solver = 'randomized')\n",
    "fit = pca.fit(X)\n",
    "\n",
    "print((\"Explained Variance: %s\") % (fit.explained_variance_ratio_))\n",
    "print(fit.components_)"
   ]
  }
 ],
 "metadata": {
  "kernelspec": {
   "display_name": ".venv",
   "language": "python",
   "name": "python3"
  },
  "language_info": {
   "codemirror_mode": {
    "name": "ipython",
    "version": 3
   },
   "file_extension": ".py",
   "mimetype": "text/x-python",
   "name": "python",
   "nbconvert_exporter": "python",
   "pygments_lexer": "ipython3",
   "version": "3.12.3"
  }
 },
 "nbformat": 4,
 "nbformat_minor": 5
}
