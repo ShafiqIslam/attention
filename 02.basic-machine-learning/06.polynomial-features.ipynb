{
 "cells": [
  {
   "cell_type": "markdown",
   "id": "8d706ad5",
   "metadata": {},
   "source": [
    "Linear models trained on non-linear functions of data generally maintains the fast performance of linear methods. It also allows them to fit a much wider range of data. Thats the reason in machine learning such linear models, that are trained on nonlinear functions, are used."
   ]
  },
  {
   "cell_type": "code",
   "execution_count": null,
   "id": "cd27423a",
   "metadata": {},
   "outputs": [
    {
     "data": {
      "text/plain": [
       "array([[0, 1],\n",
       "       [2, 3],\n",
       "       [4, 5],\n",
       "       [6, 7]])"
      ]
     },
     "execution_count": 1,
     "metadata": {},
     "output_type": "execute_result"
    }
   ],
   "source": [
    "import numpy as np\n",
    "\n",
    "Y = np.arange(8).reshape(4, 2)\n",
    "Y"
   ]
  },
  {
   "cell_type": "code",
   "execution_count": 3,
   "id": "71af05e0",
   "metadata": {},
   "outputs": [
    {
     "data": {
      "text/plain": [
       "array([[ 1.,  0.,  1.,  0.,  0.,  1.],\n",
       "       [ 1.,  2.,  3.,  4.,  6.,  9.],\n",
       "       [ 1.,  4.,  5., 16., 20., 25.],\n",
       "       [ 1.,  6.,  7., 36., 42., 49.]])"
      ]
     },
     "execution_count": 3,
     "metadata": {},
     "output_type": "execute_result"
    }
   ],
   "source": [
    "from sklearn.preprocessing import PolynomialFeatures\n",
    "\n",
    "poly = PolynomialFeatures(degree=2)\n",
    "poly.fit_transform(Y)"
   ]
  },
  {
   "cell_type": "markdown",
   "id": "2b127b71",
   "metadata": {},
   "source": [
    "**Streamlining using Pipeline tools**"
   ]
  },
  {
   "cell_type": "code",
   "execution_count": 4,
   "id": "bc9879d5",
   "metadata": {},
   "outputs": [
    {
     "data": {
      "text/plain": [
       "array([ 3., -2.,  1., -1.])"
      ]
     },
     "execution_count": 4,
     "metadata": {},
     "output_type": "execute_result"
    }
   ],
   "source": [
    "from sklearn.preprocessing import PolynomialFeatures\n",
    "from sklearn.linear_model import LinearRegression\n",
    "from sklearn.pipeline import Pipeline\n",
    "import numpy as np\n",
    "\n",
    "#Next, create an object of Pipeline tool\n",
    "Stream_model = Pipeline([('poly', PolynomialFeatures(degree=3)), ('linear', LinearRegression(fit_intercept=False))])\n",
    "\n",
    "#Provide the size of array and order of polynomial data to fit the model.\n",
    "x = np.arange(5)\n",
    "y = 3 - 2 * x + x ** 2 - x ** 3\n",
    "Stream_model = Stream_model.fit(x[:, np.newaxis], y)\n",
    "\n",
    "#Calculate the input polynomial coefficients.\n",
    "Stream_model.named_steps['linear'].coef_\n"
   ]
  }
 ],
 "metadata": {
  "kernelspec": {
   "display_name": ".venv",
   "language": "python",
   "name": "python3"
  },
  "language_info": {
   "codemirror_mode": {
    "name": "ipython",
    "version": 3
   },
   "file_extension": ".py",
   "mimetype": "text/x-python",
   "name": "python",
   "nbconvert_exporter": "python",
   "pygments_lexer": "ipython3",
   "version": "3.12.3"
  }
 },
 "nbformat": 4,
 "nbformat_minor": 5
}
