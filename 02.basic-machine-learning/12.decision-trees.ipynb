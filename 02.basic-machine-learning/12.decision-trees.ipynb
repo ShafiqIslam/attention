{
 "cells": [
  {
   "cell_type": "markdown",
   "id": "a38a5435",
   "metadata": {},
   "source": [
    "Decisions tress (DTs) are the most powerful non-parametric supervised learning method. They can be used for the classification and regression tasks. The main goal of DTs is to create a model predicting target variable value by learning simple decision rules deduced from the data features. Decision trees have two main entities; one is root node, where the data splits, and other is decision nodes or leaves, where we got final output."
   ]
  },
  {
   "cell_type": "markdown",
   "id": "85a85e64",
   "metadata": {},
   "source": [
    "**Classification with decision trees**"
   ]
  },
  {
   "cell_type": "code",
   "execution_count": 1,
   "id": "b6d75fb9",
   "metadata": {},
   "outputs": [
    {
     "data": {
      "text/plain": [
       "array(['Woman'], dtype='<U5')"
      ]
     },
     "execution_count": 1,
     "metadata": {},
     "output_type": "execute_result"
    }
   ],
   "source": [
    "from sklearn import tree\n",
    "from sklearn.model_selection import train_test_split\n",
    "\n",
    "X=[\n",
    "    [165,19],[175,32],[136,35],[174,65],[141,28],[176,15],[131,32],\n",
    "    [166,6],[128,32],[179,10],[136,34],[186,2],[126,25],[176,28],\n",
    "    [112,38],[169,9],[171,36],[116,25],[196,25], [196,38], [126,40],\n",
    "    [197,20], [150,25], [140,32],[136,35]\n",
    "]\n",
    "Y=[\n",
    "    'Man','Woman','Woman','Man','Woman','Man','Woman','Man','Woman',\n",
    "    'Man','Woman','Man','Woman','Woman','Woman','Man','Woman','Woman',\n",
    "    'Man', 'Woman', 'Woman', 'Man', 'Man', 'Woman', 'Woman'\n",
    "]\n",
    "data_feature_names = ['height','length of hair']\n",
    "\n",
    "X_train, X_test, y_train, y_test = train_test_split(\n",
    "    X, Y, test_size = 0.3, random_state = 1\n",
    ")\n",
    "\n",
    "DTclf = tree.DecisionTreeClassifier()\n",
    "DTclf = DTclf.fit(X,Y)\n",
    "\n",
    "DTclf.predict([[135,29]])"
   ]
  },
  {
   "cell_type": "markdown",
   "id": "b49a50b4",
   "metadata": {},
   "source": [
    "**Regression with decision trees**"
   ]
  },
  {
   "cell_type": "code",
   "execution_count": 2,
   "id": "a01d72af",
   "metadata": {},
   "outputs": [
    {
     "data": {
      "text/plain": [
       "array([1.5])"
      ]
     },
     "execution_count": 2,
     "metadata": {},
     "output_type": "execute_result"
    }
   ],
   "source": [
    "from sklearn import tree\n",
    "\n",
    "X = [[1, 1], [5, 5]]\n",
    "y = [0.1, 1.5]\n",
    "DTreg = tree.DecisionTreeRegressor()\n",
    "DTreg = DTreg.fit(X, y)\n",
    "\n",
    "DTreg.predict([[4, 5]])"
   ]
  }
 ],
 "metadata": {
  "kernelspec": {
   "display_name": ".venv",
   "language": "python",
   "name": "python3"
  },
  "language_info": {
   "codemirror_mode": {
    "name": "ipython",
    "version": 3
   },
   "file_extension": ".py",
   "mimetype": "text/x-python",
   "name": "python",
   "nbconvert_exporter": "python",
   "pygments_lexer": "ipython3",
   "version": "3.12.3"
  }
 },
 "nbformat": 4,
 "nbformat_minor": 5
}
