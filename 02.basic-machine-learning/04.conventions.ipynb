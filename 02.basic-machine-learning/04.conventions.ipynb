{
 "cells": [
  {
   "cell_type": "markdown",
   "id": "e1089b29",
   "metadata": {},
   "source": [
    "##### Type casting"
   ]
  },
  {
   "cell_type": "markdown",
   "id": "48aa05ce",
   "metadata": {},
   "source": [
    "The input should be cast to `float64`."
   ]
  },
  {
   "cell_type": "code",
   "execution_count": 4,
   "id": "1809d8bc",
   "metadata": {},
   "outputs": [
    {
     "data": {
      "text/plain": [
       "dtype('float32')"
      ]
     },
     "execution_count": 4,
     "metadata": {},
     "output_type": "execute_result"
    }
   ],
   "source": [
    "import numpy as np\n",
    "from sklearn import random_projection\n",
    "\n",
    "rannge = np.random.RandomState(0)\n",
    "X = rannge.rand(10,2000)\n",
    "X = np.array(X, dtype = 'float32')\n",
    "X.dtype"
   ]
  },
  {
   "cell_type": "code",
   "execution_count": 5,
   "id": "8d54bf10",
   "metadata": {},
   "outputs": [
    {
     "data": {
      "text/plain": [
       "dtype('float32')"
      ]
     },
     "execution_count": 5,
     "metadata": {},
     "output_type": "execute_result"
    }
   ],
   "source": [
    "transformer_data = random_projection.GaussianRandomProjection()\n",
    "X_new = transformer_data.fit_transform(X)\n",
    "X_new.dtype"
   ]
  },
  {
   "cell_type": "markdown",
   "id": "04c5a84a",
   "metadata": {},
   "source": [
    "Note: in previous versions\n",
    "> Unless otherwise specified, input will be cast to float64\n",
    "\n",
    "In newer versions\n",
    "> The dtype is preserved by fit and fit_transform and the main fitted attributes use a dtype of the same precision as the training data."
   ]
  },
  {
   "cell_type": "markdown",
   "id": "8dc16fc5",
   "metadata": {},
   "source": [
    "##### Refitting & Updating Parameters"
   ]
  },
  {
   "cell_type": "markdown",
   "id": "65929caa",
   "metadata": {},
   "source": [
    "Hyper-parameters of an estimator can be updated and refitted after it has been constructed"
   ]
  },
  {
   "cell_type": "code",
   "execution_count": 10,
   "id": "0fcc6451",
   "metadata": {},
   "outputs": [
    {
     "data": {
      "text/plain": [
       "array([0, 0, 0, 0, 0])"
      ]
     },
     "execution_count": 10,
     "metadata": {},
     "output_type": "execute_result"
    }
   ],
   "source": [
    "import numpy as np\n",
    "from sklearn.datasets import load_iris\n",
    "from sklearn.svm import SVC\n",
    "\n",
    "X, y = load_iris(return_X_y = True)\n",
    "clf = SVC()\n",
    "clf.set_params(kernel = 'linear').fit(X, y)\n",
    "clf.predict(X[:5])"
   ]
  },
  {
   "cell_type": "code",
   "execution_count": 7,
   "id": "c0ff9d65",
   "metadata": {},
   "outputs": [
    {
     "data": {
      "text/plain": [
       "array([0, 0, 0, 0, 0])"
      ]
     },
     "execution_count": 7,
     "metadata": {},
     "output_type": "execute_result"
    }
   ],
   "source": [
    "clf.set_params(kernel = 'rbf', gamma = 'scale').fit(X, y)\n",
    "clf.predict(X[:5])"
   ]
  },
  {
   "cell_type": "markdown",
   "id": "1159877d",
   "metadata": {},
   "source": [
    "##### Multiclass & Multilabel fitting"
   ]
  },
  {
   "cell_type": "code",
   "execution_count": null,
   "id": "7666c956",
   "metadata": {},
   "outputs": [
    {
     "data": {
      "text/plain": [
       "array([0, 1, 1, 1, 2])"
      ]
     },
     "execution_count": 8,
     "metadata": {},
     "output_type": "execute_result"
    }
   ],
   "source": [
    "from sklearn.svm import SVC\n",
    "from sklearn.multiclass import OneVsRestClassifier\n",
    "\n",
    "X = [[1, 2], [3, 4], [4, 5], [5, 2], [1, 1]]\n",
    "y = [0, 0, 1, 1, 2]\n",
    "classif = OneVsRestClassifier(estimator = SVC(gamma = 'scale',random_state = 0))\n",
    "classif.fit(X, y).predict(X)"
   ]
  },
  {
   "cell_type": "markdown",
   "id": "ab57a9c6",
   "metadata": {},
   "source": [
    "It is also possible to fit upon a two-dimensional array of binary label indicators"
   ]
  },
  {
   "cell_type": "code",
   "execution_count": 9,
   "id": "6a004182",
   "metadata": {},
   "outputs": [
    {
     "data": {
      "text/plain": [
       "array([[0, 0, 0],\n",
       "       [0, 0, 0],\n",
       "       [0, 1, 0],\n",
       "       [0, 1, 0],\n",
       "       [0, 0, 0]])"
      ]
     },
     "execution_count": 9,
     "metadata": {},
     "output_type": "execute_result"
    }
   ],
   "source": [
    "from sklearn.preprocessing import LabelBinarizer\n",
    "\n",
    "y = LabelBinarizer().fit_transform(y)\n",
    "classif.fit(X, y).predict(X)"
   ]
  },
  {
   "cell_type": "markdown",
   "id": "2287ecdc",
   "metadata": {},
   "source": [
    "Similarly, in case of multilabel fitting, an instance can be assigned multiple labels"
   ]
  },
  {
   "cell_type": "code",
   "execution_count": 15,
   "id": "994245e7",
   "metadata": {},
   "outputs": [],
   "source": [
    "from sklearn.preprocessing import MultiLabelBinarizer\n",
    "\n",
    "y = [[0, 1], [0, 2], [1, 3], [0, 2], [2, 4]]\n",
    "y = MultiLabelBinarizer().fit_transform(y)\n",
    "# classif.fit(X, y).predict(X) # does not work with MultiLabelBinarizer"
   ]
  }
 ],
 "metadata": {
  "kernelspec": {
   "display_name": ".venv",
   "language": "python",
   "name": "python3"
  },
  "language_info": {
   "codemirror_mode": {
    "name": "ipython",
    "version": 3
   },
   "file_extension": ".py",
   "mimetype": "text/x-python",
   "name": "python",
   "nbconvert_exporter": "python",
   "pygments_lexer": "ipython3",
   "version": "3.12.3"
  }
 },
 "nbformat": 4,
 "nbformat_minor": 5
}
