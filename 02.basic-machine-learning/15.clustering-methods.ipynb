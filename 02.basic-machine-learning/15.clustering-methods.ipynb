{
 "cells": [
  {
   "cell_type": "markdown",
   "id": "2ab0a121",
   "metadata": {},
   "source": [
    "Clustering methods, one of the most useful unsupervised ML methods, used to find similarity & relationship patterns among data samples. After that, they cluster those samples into groups having similarity based on features. Clustering determines the intrinsic grouping among the present unlabeled data, thats why it is important."
   ]
  },
  {
   "cell_type": "markdown",
   "id": "29bb74e6",
   "metadata": {},
   "source": [
    "##### KMeans"
   ]
  },
  {
   "cell_type": "markdown",
   "id": "a96c64a5",
   "metadata": {},
   "source": [
    "This algorithm computes the centroids and iterates until it finds optimal centroid. It requires the number of clusters to be specified thats why it assumes that they are already known. The main logic of this algorithm is to cluster the data separating samples in n number of groups of equal variances by minimizing the criteria known as the inertia. The number of clusters identified by algorithm is represented by K."
   ]
  },
  {
   "cell_type": "code",
   "execution_count": 3,
   "id": "52e15b90",
   "metadata": {},
   "outputs": [
    {
     "data": {
      "text/plain": [
       "(1797, 64)"
      ]
     },
     "execution_count": 3,
     "metadata": {},
     "output_type": "execute_result"
    }
   ],
   "source": [
    "%matplotlib inline\n",
    "from sklearn.cluster import KMeans\n",
    "from sklearn.datasets import load_digits\n",
    "\n",
    "digits = load_digits()\n",
    "digits.data.shape"
   ]
  },
  {
   "cell_type": "code",
   "execution_count": 4,
   "id": "3be912d0",
   "metadata": {},
   "outputs": [
    {
     "data": {
      "text/plain": [
       "(10, 64)"
      ]
     },
     "execution_count": 4,
     "metadata": {},
     "output_type": "execute_result"
    }
   ],
   "source": [
    "kmeans = KMeans(n_clusters = 10, random_state = 0)\n",
    "clusters = kmeans.fit_predict(digits.data)\n",
    "kmeans.cluster_centers_.shape"
   ]
  },
  {
   "cell_type": "markdown",
   "id": "4c9567cc",
   "metadata": {},
   "source": [
    "Output showing clusters centers learned by K-Means Clustering"
   ]
  },
  {
   "cell_type": "code",
   "execution_count": 5,
   "id": "3ae9395d",
   "metadata": {},
   "outputs": [
    {
     "data": {
      "image/png": "[encoded data removed]",
      "text/plain": [
       "<Figure size 800x300 with 10 Axes>"
      ]
     },
     "metadata": {},
     "output_type": "display_data"
    }
   ],
   "source": [
    "import matplotlib.pyplot as plt\n",
    "\n",
    "fig, ax = plt.subplots(2, 5, figsize = (8, 3))\n",
    "centers = kmeans.cluster_centers_.reshape(10, 8, 8)\n",
    "for axi, center in zip(ax.flat, centers):\n",
    "    axi.set(xticks = [], yticks = [])\n",
    "    axi.imshow(center, interpolation = 'nearest', cmap = plt.cm.binary)"
   ]
  },
  {
   "cell_type": "markdown",
   "id": "4773a123",
   "metadata": {},
   "source": [
    "Match the learned cluster labels (by K-Means) with the true labels"
   ]
  },
  {
   "cell_type": "code",
   "execution_count": 6,
   "id": "cdd6ed9a",
   "metadata": {},
   "outputs": [],
   "source": [
    "from scipy.stats import mode\n",
    "import numpy as np\n",
    "\n",
    "labels = np.zeros_like(clusters)\n",
    "for i in range(10):\n",
    "    mask = (clusters == i)\n",
    "    labels[mask] = mode(digits.target[mask])[0]"
   ]
  },
  {
   "cell_type": "markdown",
   "id": "5f64c436",
   "metadata": {},
   "source": [
    "Check the accuracy"
   ]
  },
  {
   "cell_type": "code",
   "execution_count": 7,
   "id": "c3a1eb52",
   "metadata": {},
   "outputs": [
    {
     "data": {
      "text/plain": [
       "0.7440178074568725"
      ]
     },
     "execution_count": 7,
     "metadata": {},
     "output_type": "execute_result"
    }
   ],
   "source": [
    "from sklearn.metrics import accuracy_score\n",
    "accuracy_score(digits.target, labels)"
   ]
  }
 ],
 "metadata": {
  "kernelspec": {
   "display_name": ".venv",
   "language": "python",
   "name": "python3"
  },
  "language_info": {
   "codemirror_mode": {
    "name": "ipython",
    "version": 3
   },
   "file_extension": ".py",
   "mimetype": "text/x-python",
   "name": "python",
   "nbconvert_exporter": "python",
   "pygments_lexer": "ipython3",
   "version": "3.12.3"
  }
 },
 "nbformat": 4,
 "nbformat_minor": 5
}
