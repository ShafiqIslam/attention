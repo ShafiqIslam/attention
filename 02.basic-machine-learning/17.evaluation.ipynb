{
 "cells": [
  {
   "cell_type": "markdown",
   "id": "6f3c94df",
   "metadata": {},
   "source": [
    "# Did not understand a lot of things..."
   ]
  }
 ],
 "metadata": {
  "language_info": {
   "name": "python"
  }
 },
 "nbformat": 4,
 "nbformat_minor": 5
}
